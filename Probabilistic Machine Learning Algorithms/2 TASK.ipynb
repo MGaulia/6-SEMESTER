{
 "cells": [
  {
   "cell_type": "code",
   "execution_count": 1,
   "id": "0d6e0154",
   "metadata": {},
   "outputs": [],
   "source": [
    "import pandas as pd\n",
    "from sklearn.neighbors import KNeighborsClassifier\n",
    "from sklearn.linear_model import LogisticRegression\n",
    "from sklearn.model_selection import train_test_split, GridSearchCV\n",
    "from sklearn.preprocessing import MinMaxScaler\n",
    "from sklearn.svm import SVC\n",
    "import numpy as np\n",
    "\n",
    "path = \"data/smoking.csv\"\n",
    "df = pd.read_csv(path)\n",
    "df = df.replace({'gender':{'F':1,'M':0},'oral':{'Y':1,'N':0},'tartar':{'Y':1,'N':0}})\n",
    "df.groupby(\"smoking\").count()\n",
    "df = df.groupby('smoking', group_keys=False).apply(pd.DataFrame.sample, frac=.05)\n",
    "X, y = df.loc[:,df.columns!='smoking'].values, df['smoking'].values\n",
    "\n",
    "X_train, X_test, y_train, y_test = train_test_split(X,y, train_size=0.75, random_state=0)\n",
    "scaler = MinMaxScaler().fit(X_train)\n",
    "X_train_scaled = scaler.transform(X_train)\n",
    "X_test_scaled = scaler.transform(X_test)"
   ]
  },
  {
   "cell_type": "markdown",
   "id": "77f2e6c7",
   "metadata": {},
   "source": [
    "# 1"
   ]
  },
  {
   "cell_type": "code",
   "execution_count": 2,
   "id": "3cfca44e",
   "metadata": {},
   "outputs": [
    {
     "name": "stderr",
     "output_type": "stream",
     "text": [
      "/opt/homebrew/lib/python3.9/site-packages/sklearn/linear_model/_sag.py:352: ConvergenceWarning: The max_iter was reached which means the coef_ did not converge\n",
      "  warnings.warn(\n",
      "/opt/homebrew/lib/python3.9/site-packages/sklearn/linear_model/_sag.py:352: ConvergenceWarning: The max_iter was reached which means the coef_ did not converge\n",
      "  warnings.warn(\n",
      "/opt/homebrew/lib/python3.9/site-packages/sklearn/linear_model/_sag.py:352: ConvergenceWarning: The max_iter was reached which means the coef_ did not converge\n",
      "  warnings.warn(\n",
      "/opt/homebrew/lib/python3.9/site-packages/sklearn/linear_model/_sag.py:352: ConvergenceWarning: The max_iter was reached which means the coef_ did not converge\n",
      "  warnings.warn(\n"
     ]
    },
    {
     "name": "stdout",
     "output_type": "stream",
     "text": [
      "Geriausi parametrai: {'C': 1, 'fit_intercept': True, 'l1_ratio': 0.4, 'penalty': 'elasticnet', 'solver': 'saga'}\n",
      "Rizika:  0.2568149210903874\n"
     ]
    },
    {
     "name": "stderr",
     "output_type": "stream",
     "text": [
      "/opt/homebrew/lib/python3.9/site-packages/sklearn/linear_model/_sag.py:352: ConvergenceWarning: The max_iter was reached which means the coef_ did not converge\n",
      "  warnings.warn(\n"
     ]
    }
   ],
   "source": [
    "lrgrid = {'C':[1],'fit_intercept':[True, False],'penalty':['elasticnet'],'solver':[\"saga\"], \"l1_ratio\":[i/10 for i in range(0, 10+1)]}\n",
    "lrgs = GridSearchCV(LogisticRegression(), lrgrid, cv=5).fit(X_train_scaled,y_train)\n",
    "print(\"Geriausi parametrai: {}\".format(lrgs.best_params_))\n",
    "print(\"Rizika: \", 1 - lrgs.score(X_test_scaled, y_test))"
   ]
  },
  {
   "cell_type": "code",
   "execution_count": 3,
   "id": "e32dc485",
   "metadata": {},
   "outputs": [
    {
     "name": "stdout",
     "output_type": "stream",
     "text": [
      "Geriausi parametrai: {'n_neighbors': 9}\n",
      "Rizika:  0.29985652797704443\n"
     ]
    }
   ],
   "source": [
    "knngrid = {'n_neighbors':list(range(1, 10+1))}\n",
    "knngs = GridSearchCV(KNeighborsClassifier(), knngrid, cv=5).fit(X_train_scaled,y_train)\n",
    "print(\"Geriausi parametrai: {}\".format(knngs.best_params_))\n",
    "print(\"Rizika: \", 1 - knngs.score(X_test_scaled, y_test))"
   ]
  },
  {
   "cell_type": "code",
   "execution_count": 4,
   "id": "314b2c60",
   "metadata": {},
   "outputs": [
    {
     "name": "stdout",
     "output_type": "stream",
     "text": [
      "Geriausi parametrai: {'gamma': 1, 'kernel': 'rbf'}\n",
      "Rizika:  0.2453371592539455\n"
     ]
    }
   ],
   "source": [
    "svcgrid = {'kernel':['rbf'],'gamma':[10**i for i in range(-3, 3+1)]}\n",
    "svcgs = GridSearchCV(SVC(), svcgrid, cv=5).fit(X_train_scaled,y_train)\n",
    "print(\"Geriausi parametrai: {}\".format(svcgs.best_params_))\n",
    "print(\"Rizika: \", 1 - svcgs.score(X_test_scaled, y_test))"
   ]
  },
  {
   "cell_type": "raw",
   "id": "3f9ac890",
   "metadata": {},
   "source": [
    "a) elasticnet naudoja abi reguliarizacijas, tad teigti kad viena geresne nei kita, negalime"
   ]
  },
  {
   "cell_type": "code",
   "execution_count": 5,
   "id": "b8ca6b75",
   "metadata": {},
   "outputs": [
    {
     "name": "stdout",
     "output_type": "stream",
     "text": [
      "Vid uztruko:  0.018335771560668946\n"
     ]
    }
   ],
   "source": [
    "### b)\n",
    "print(\"Vid uztruko: \", knngs.cv_results_['mean_score_time'][9]) "
   ]
  },
  {
   "cell_type": "markdown",
   "id": "ff82f1eb",
   "metadata": {},
   "source": [
    "# 2"
   ]
  },
  {
   "cell_type": "code",
   "execution_count": 6,
   "id": "6feaf8f5",
   "metadata": {},
   "outputs": [],
   "source": [
    "lr2grid = {'C':[1],'fit_intercept':[False],'penalty':['none','l2'],'solver':[\"saga\"], \"l1_ratio\":[i/10 for i in range(0, 10+1)]}"
   ]
  },
  {
   "cell_type": "code",
   "execution_count": 7,
   "id": "c6ca59fa",
   "metadata": {},
   "outputs": [
    {
     "data": {
      "text/plain": [
       "0.7489239598278336"
      ]
     },
     "execution_count": 7,
     "metadata": {},
     "output_type": "execute_result"
    }
   ],
   "source": [
    "one = LogisticRegression(penalty=\"none\", fit_intercept = False, max_iter=10**6).fit(X_train_scaled, y_train)\n",
    "one.score(X_test_scaled, y_test)"
   ]
  },
  {
   "cell_type": "code",
   "execution_count": 8,
   "id": "95eee56a",
   "metadata": {},
   "outputs": [
    {
     "data": {
      "text/plain": [
       "0.7489239598278336"
      ]
     },
     "execution_count": 8,
     "metadata": {},
     "output_type": "execute_result"
    }
   ],
   "source": [
    "two = LogisticRegression(C = 10**20,fit_intercept = False, max_iter=10**6).fit(X_train_scaled, y_train)\n",
    "two.score(X_test_scaled, y_test)"
   ]
  },
  {
   "cell_type": "raw",
   "id": "270dfa59",
   "metadata": {},
   "source": [
    "Matome kad is tikro nesiskiria"
   ]
  },
  {
   "cell_type": "markdown",
   "id": "be0a4c8e",
   "metadata": {},
   "source": [
    "# 3"
   ]
  },
  {
   "cell_type": "code",
   "execution_count": 9,
   "id": "dc9fbe71",
   "metadata": {},
   "outputs": [],
   "source": [
    "def kernel(xi, xj):\n",
    "    xi = np.array(xi)\n",
    "    xj = np.array(xj)\n",
    "    step1 = np.sum(xi - xj)\n",
    "    step2 = step1 ** 2\n",
    "    step3 = 1 + step2\n",
    "    step4 = 1 / step3\n",
    "    return step4\n",
    "\n",
    "def kmatrix(X1,X2):\n",
    "    m = len(X1)\n",
    "    n = len(X2)\n",
    "    kmat = np.ndarray(shape=(m,n))\n",
    "    for i in range(m):\n",
    "        for j in range(n):\n",
    "            kmat[i,j]=kernel(X1[i], X2[j])\n",
    "    return kmat"
   ]
  },
  {
   "cell_type": "code",
   "execution_count": 10,
   "id": "c378e6ed",
   "metadata": {},
   "outputs": [],
   "source": [
    "kmat_train = kmatrix(X1=X_train_scaled,X2=X_train_scaled)"
   ]
  },
  {
   "cell_type": "code",
   "execution_count": 11,
   "id": "0f9238c5",
   "metadata": {},
   "outputs": [],
   "source": [
    "k_clf = SVC(C=0.9, kernel='precomputed').fit(kmat_train, y_train)"
   ]
  },
  {
   "cell_type": "code",
   "execution_count": 12,
   "id": "c6500895",
   "metadata": {},
   "outputs": [],
   "source": [
    "kmat_test = kmatrix(X1=X_test_scaled,X2=X_train_scaled)\n",
    "ypred = k_clf.predict(kmat_test)"
   ]
  },
  {
   "cell_type": "code",
   "execution_count": 13,
   "id": "1d67e7fa",
   "metadata": {},
   "outputs": [
    {
     "data": {
      "text/plain": [
       "array([0, 0, 0, 0, 0, 0, 0, 0, 0, 0, 0, 0, 0, 0, 0, 0, 0, 0, 0, 0, 0, 0,\n",
       "       0, 0, 0, 0, 0, 0, 0, 0, 0, 0, 0, 0, 0, 0, 0, 0, 0, 1, 0, 0, 0, 0,\n",
       "       0, 0, 0, 0, 0, 0, 0, 0, 0, 0, 0, 0, 0, 0, 0, 0, 0, 0, 0, 0, 0, 0,\n",
       "       0, 0, 0, 0, 0, 0, 0, 0, 0, 0, 0, 0, 0, 0, 0, 0, 0, 0, 0, 0, 0, 0,\n",
       "       0, 0, 0, 0, 0, 0, 0, 0, 0, 0, 0, 0, 0, 0, 0, 0, 0, 0, 0, 0, 0, 0,\n",
       "       0, 0, 0, 0, 0, 0, 0, 0, 0, 0, 0, 0, 0, 0, 0, 0, 0, 0, 0, 0, 0, 0,\n",
       "       0, 0, 0, 0, 0, 1, 0, 0, 0, 0, 0, 0, 0, 0, 0, 0, 0, 0, 0, 0, 0, 0,\n",
       "       0, 0, 0, 0, 0, 0, 0, 0, 0, 0, 0, 0, 0, 0, 0, 0, 0, 0, 0, 0, 0, 0,\n",
       "       0, 0, 0, 0, 0, 0, 0, 0, 0, 0, 0, 0, 0, 0, 1, 0, 0, 0, 0, 0, 0, 0,\n",
       "       0, 0, 0, 0, 0, 0, 0, 0, 0, 0, 0, 0, 0, 0, 0, 0, 0, 0, 0, 0, 0, 0,\n",
       "       0, 0, 0, 0, 0, 0, 0, 0, 0, 0, 0, 0, 0, 0, 1, 0, 0, 0, 0, 0, 0, 0,\n",
       "       0, 0, 0, 0, 0, 0, 0, 0, 0, 0, 0, 0, 0, 0, 0, 0, 0, 0, 0, 0, 0, 0,\n",
       "       0, 0, 0, 0, 0, 0, 0, 0, 0, 0, 0, 0, 0, 0, 0, 0, 0, 0, 1, 0, 0, 0,\n",
       "       0, 0, 0, 0, 0, 0, 0, 1, 0, 0, 0, 0, 0, 0, 0, 0, 0, 0, 0, 0, 0, 0,\n",
       "       0, 0, 0, 0, 0, 0, 0, 0, 0, 0, 0, 0, 0, 1, 0, 0, 0, 0, 0, 0, 0, 0,\n",
       "       0, 0, 0, 0, 0, 0, 0, 0, 0, 0, 0, 0, 0, 0, 0, 0, 0, 0, 0, 0, 0, 0,\n",
       "       0, 0, 0, 0, 0, 0, 0, 0, 0, 0, 0, 0, 0, 0, 0, 0, 0, 0, 0, 0, 0, 0,\n",
       "       0, 0, 0, 0, 0, 0, 0, 0, 0, 0, 0, 0, 0, 0, 0, 0, 0, 0, 0, 0, 0, 0,\n",
       "       0, 0, 0, 0, 0, 0, 0, 0, 0, 0, 0, 0, 0, 0, 0, 0, 0, 1, 0, 0, 0, 0,\n",
       "       0, 0, 0, 0, 0, 0, 0, 0, 0, 0, 0, 0, 0, 0, 0, 0, 0, 0, 0, 0, 0, 0,\n",
       "       0, 0, 0, 0, 0, 0, 0, 0, 0, 0, 0, 0, 0, 0, 0, 0, 0, 0, 0, 0, 0, 0,\n",
       "       0, 0, 0, 0, 0, 0, 0, 0, 0, 0, 0, 0, 0, 0, 0, 0, 0, 0, 0, 0, 0, 0,\n",
       "       0, 0, 0, 0, 0, 0, 0, 0, 0, 0, 0, 0, 0, 0, 0, 0, 0, 0, 0, 0, 0, 0,\n",
       "       0, 0, 0, 0, 0, 0, 0, 0, 0, 0, 0, 0, 0, 0, 0, 0, 0, 0, 0, 0, 0, 0,\n",
       "       0, 0, 0, 0, 0, 0, 0, 0, 0, 0, 0, 0, 0, 0, 0, 0, 0, 0, 0, 0, 0, 0,\n",
       "       0, 0, 0, 0, 0, 0, 0, 0, 0, 0, 0, 0, 0, 0, 0, 0, 1, 0, 0, 0, 0, 0,\n",
       "       0, 0, 0, 0, 0, 0, 0, 0, 0, 0, 0, 0, 0, 0, 0, 0, 0, 0, 0, 0, 0, 1,\n",
       "       0, 0, 0, 0, 0, 0, 0, 0, 0, 0, 0, 0, 0, 0, 0, 0, 0, 0, 0, 0, 0, 0,\n",
       "       0, 0, 0, 0, 0, 0, 0, 0, 0, 0, 0, 0, 0, 0, 0, 0, 0, 0, 0, 0, 0, 0,\n",
       "       0, 0, 0, 0, 0, 0, 0, 0, 1, 0, 0, 0, 0, 0, 0, 0, 0, 0, 0, 0, 0, 0,\n",
       "       0, 0, 0, 0, 0, 0, 0, 0, 0, 0, 0, 0, 0, 0, 0, 0, 0, 0, 0, 0, 0, 0,\n",
       "       0, 0, 0, 0, 0, 0, 0, 0, 0, 0, 0, 0, 0, 0, 0])"
      ]
     },
     "execution_count": 13,
     "metadata": {},
     "output_type": "execute_result"
    }
   ],
   "source": [
    "# Prognozes\n",
    "ypred"
   ]
  },
  {
   "cell_type": "code",
   "execution_count": 16,
   "id": "57700607",
   "metadata": {},
   "outputs": [
    {
     "name": "stdout",
     "output_type": "stream",
     "text": [
      "Score:  0.629842180774749\n"
     ]
    }
   ],
   "source": [
    "print(\"Score: \", sum(ypred == y_test) / len(y_test))"
   ]
  }
 ],
 "metadata": {
  "kernelspec": {
   "display_name": "Python 3 (ipykernel)",
   "language": "python",
   "name": "python3"
  },
  "language_info": {
   "codemirror_mode": {
    "name": "ipython",
    "version": 3
   },
   "file_extension": ".py",
   "mimetype": "text/x-python",
   "name": "python",
   "nbconvert_exporter": "python",
   "pygments_lexer": "ipython3",
   "version": "3.9.12"
  }
 },
 "nbformat": 4,
 "nbformat_minor": 5
}
