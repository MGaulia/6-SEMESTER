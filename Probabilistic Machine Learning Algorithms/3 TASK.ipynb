{
 "cells": [
  {
   "cell_type": "code",
   "execution_count": 1,
   "id": "a570ed7a",
   "metadata": {},
   "outputs": [],
   "source": [
    "import pandas as pd\n",
    "from sklearn.model_selection import train_test_split, GridSearchCV\n",
    "from sklearn.preprocessing import MinMaxScaler\n",
    "from sklearn.linear_model import LogisticRegression\n",
    "from sklearn.metrics import confusion_matrix\n",
    "# 0. duomenys\n",
    "path = \"bank-full.csv\"\n",
    "df = pd.read_csv(path)\n",
    "\n",
    "# kategorinių kintamųjų perkodavimas (supaprastintas)\n",
    "label_encoding = {\n",
    "    \"y\":{\"no\":0,\"yes\":1},\n",
    "    \"poutcome\":{\"unknown\":0,\"failure\":0,\"other\":0,\"success\":1},\n",
    "    \"month\":{\"jan\":0,\"feb\":1,\"mar\":2,\"apr\":3,\"may\":4,\"jun\":5,\"jul\":6,\"aug\":7,\"sep\":8,\"oct\":9,\"nov\":10,\"dec\":11},\n",
    "    \"contact\":{\"unknown\":0,\"cellular\":1,\"telephone\":1},\n",
    "    \"loan\":{\"no\":0,\"yes\":1},\n",
    "    \"housing\":{\"no\":0,\"yes\":1},\n",
    "    \"default\":{\"no\":0,\"yes\":1},\n",
    "    \"education\":{\"tertiary\":1,\"secondary\":0,\"unknown\":0,\"primary\":0},\n",
    "    \"marital\":{\"married\":0,\"single\":1,\"divorced\":1},   \n",
    "    \"job\":{\"management\":0,\"technician\":1,\"entrepreneur\":2,\"blue-collar\":3,\"unknown\":4,\"retired\":5,\"admin.\":6,\"services\":7,\"self-employed\":8,\"unemployed\":9,\"housemaid\":10,\"student\":11}\n",
    "}\n",
    "\n",
    "\n",
    "\n",
    "df = df.replace(label_encoding)\n",
    "df = df.drop(\"job\", axis=1)\n",
    "\n",
    "# kiekybinių kintamųjų transformavimas\n",
    "num_features=['age', 'balance', 'day', 'duration','campaign', 'pdays', 'previous']\n",
    "\n",
    "scaler = MinMaxScaler(feature_range=(0, 1))\n",
    "\n",
    "df[num_features] = scaler.fit_transform(df[num_features]) \n",
    "\n",
    "# X, y\n",
    "X, y = df.drop('y',axis=1).values , df['y'].values\n",
    "X.shape, y.shape\n",
    "\n",
    "# skaidymas į train-val ir test\n",
    "X_train_val, X_test, y_train_val, y_test = train_test_split(X, y, test_size=0.2, random_state=0, stratify=y)"
   ]
  },
  {
   "cell_type": "markdown",
   "id": "d0d89074",
   "metadata": {},
   "source": [
    "# 1"
   ]
  },
  {
   "cell_type": "code",
   "execution_count": 2,
   "id": "bac2386f",
   "metadata": {},
   "outputs": [],
   "source": [
    "def specificity(y_true, y_pred):\n",
    "    tn, fp, fn, tp = confusion_matrix(y_true, y_pred).ravel()\n",
    "    return tn / (tn+fp)\n",
    "\n",
    "def gm(y_true, y_pred):\n",
    "    tn, fp, fn, tp = confusion_matrix(y_true, y_pred).ravel()\n",
    "    recall = (tp)/(tp+fn)\n",
    "    specificity = (tn)/(tn+fp)\n",
    "    return (recall*specificity)**0.5"
   ]
  },
  {
   "cell_type": "code",
   "execution_count": 3,
   "id": "9c337b42",
   "metadata": {},
   "outputs": [],
   "source": [
    "xt, xv, yt, yv = train_test_split(X_train_val, y_train_val, test_size=0.2, random_state=0, stratify=y_train_val)"
   ]
  },
  {
   "cell_type": "markdown",
   "id": "b623034c",
   "metadata": {},
   "source": [
    "## a"
   ]
  },
  {
   "cell_type": "code",
   "execution_count": 4,
   "id": "fb35c846",
   "metadata": {},
   "outputs": [
    {
     "name": "stdout",
     "output_type": "stream",
     "text": [
      "C= 0.01 :  0.9945209768315592\n",
      "C= 0.1 :  0.9873199749530369\n",
      "C= 1 :  0.980745147150908\n",
      "C= 10 :  0.9788666249217283\n",
      "C= 100 :  0.9787100814026299\n",
      "C= 1000 :  0.9787100814026299\n",
      "C= 10000 :  0.9787100814026299\n"
     ]
    }
   ],
   "source": [
    "for c in [0.01, 0.1, 1, 10, 100, 1000, 10000]:\n",
    "    tempa = LogisticRegression(max_iter = 10000, C = c).fit(xt, yt)\n",
    "    print(\"C=\",c,\": \", specificity(yv, tempa.predict(xv)))"
   ]
  },
  {
   "cell_type": "code",
   "execution_count": 5,
   "id": "09e1cb09",
   "metadata": {},
   "outputs": [],
   "source": [
    "# Geriausias su C = 0.01\n",
    "lga = LogisticRegression(max_iter = 10000, C = 0.01).fit(xt, yt)"
   ]
  },
  {
   "cell_type": "markdown",
   "id": "edea5ed9",
   "metadata": {},
   "source": [
    "## b"
   ]
  },
  {
   "cell_type": "code",
   "execution_count": 6,
   "id": "016354df",
   "metadata": {},
   "outputs": [
    {
     "name": "stdout",
     "output_type": "stream",
     "text": [
      "C= 0.01 :  0.3142399778147813\n",
      "C= 0.1 :  0.44147083282791677\n",
      "C= 1 :  0.5372699811752707\n",
      "C= 10 :  0.5547756582653556\n",
      "C= 100 :  0.5578507090523395\n",
      "C= 1000 :  0.5568128463691226\n",
      "C= 10000 :  0.5568128463691226\n"
     ]
    }
   ],
   "source": [
    "for c in [0.01, 0.1, 1, 10, 100, 1000, 10000]:\n",
    "    tempb = LogisticRegression(max_iter = 10000, C = c).fit(xt, yt)\n",
    "    print(\"C=\",c,\": \", gm(yv, tempb.predict(xv)))"
   ]
  },
  {
   "cell_type": "code",
   "execution_count": 7,
   "id": "48cf061f",
   "metadata": {},
   "outputs": [],
   "source": [
    "# Geriausias su C = 100\n",
    "lgb = LogisticRegression(max_iter = 10000, C = 100).fit(xt, yt)"
   ]
  },
  {
   "cell_type": "markdown",
   "id": "38c07e91",
   "metadata": {},
   "source": [
    "# 2"
   ]
  },
  {
   "cell_type": "markdown",
   "id": "5ae34645",
   "metadata": {},
   "source": [
    "# a"
   ]
  },
  {
   "cell_type": "code",
   "execution_count": 8,
   "id": "4e28aea2",
   "metadata": {},
   "outputs": [],
   "source": [
    "from sklearn.metrics import classification_report"
   ]
  },
  {
   "cell_type": "code",
   "execution_count": 9,
   "id": "9e9ca687",
   "metadata": {},
   "outputs": [],
   "source": [
    "lga = lga.fit(X_train_val, y_train_val)"
   ]
  },
  {
   "cell_type": "code",
   "execution_count": 10,
   "id": "4eca8fc6",
   "metadata": {},
   "outputs": [
    {
     "name": "stdout",
     "output_type": "stream",
     "text": [
      "              precision    recall  f1-score   support\n",
      "\n",
      "           0       0.90      0.99      0.94      7985\n",
      "           1       0.74      0.12      0.21      1058\n",
      "\n",
      "    accuracy                           0.89      9043\n",
      "   macro avg       0.82      0.56      0.58      9043\n",
      "weighted avg       0.88      0.89      0.86      9043\n",
      "\n"
     ]
    }
   ],
   "source": [
    "print(classification_report(y_test, lga.predict(X_test)))"
   ]
  },
  {
   "cell_type": "code",
   "execution_count": 11,
   "id": "13935f70",
   "metadata": {},
   "outputs": [],
   "source": [
    "lgb = lgb.fit(X_train_val, y_train_val)"
   ]
  },
  {
   "cell_type": "code",
   "execution_count": 12,
   "id": "95d75c68",
   "metadata": {},
   "outputs": [
    {
     "name": "stdout",
     "output_type": "stream",
     "text": [
      "              precision    recall  f1-score   support\n",
      "\n",
      "           0       0.92      0.98      0.95      7985\n",
      "           1       0.66      0.32      0.43      1058\n",
      "\n",
      "    accuracy                           0.90      9043\n",
      "   macro avg       0.79      0.65      0.69      9043\n",
      "weighted avg       0.89      0.90      0.89      9043\n",
      "\n"
     ]
    }
   ],
   "source": [
    "print(classification_report(y_test, lgb.predict(X_test)))"
   ]
  },
  {
   "cell_type": "markdown",
   "id": "18ce8b1c",
   "metadata": {},
   "source": [
    "## b"
   ]
  },
  {
   "cell_type": "raw",
   "id": "e01f88fa",
   "metadata": {},
   "source": [
    "Apkeiciant kategorijas, apsikeistu vietomis priesingi precision ir recall, ir maishos matricoje apsikeistu skaiciai vietomis"
   ]
  },
  {
   "cell_type": "markdown",
   "id": "1a29ac57",
   "metadata": {},
   "source": [
    "## c"
   ]
  },
  {
   "cell_type": "code",
   "execution_count": 13,
   "id": "262c473c",
   "metadata": {},
   "outputs": [],
   "source": [
    "from sklearn.metrics import roc_auc_score"
   ]
  },
  {
   "cell_type": "markdown",
   "id": "4968974b",
   "metadata": {},
   "source": [
    "### 1"
   ]
  },
  {
   "cell_type": "raw",
   "id": "65bada8c",
   "metadata": {},
   "source": [
    "modeli su geometriniu vidurkiu, nes jo f1 atskiru klasiu didesni abu ir bendras f1 didesnis"
   ]
  },
  {
   "cell_type": "markdown",
   "id": "791ee106",
   "metadata": {},
   "source": [
    "### 2"
   ]
  },
  {
   "cell_type": "code",
   "execution_count": 14,
   "id": "6a26a4b3",
   "metadata": {},
   "outputs": [
    {
     "data": {
      "text/plain": [
       "0.7897904033200247"
      ]
     },
     "execution_count": 14,
     "metadata": {},
     "output_type": "execute_result"
    }
   ],
   "source": [
    "roc_auc_score(y_test, lga.predict_proba(X_test)[:, 1])"
   ]
  },
  {
   "cell_type": "code",
   "execution_count": 15,
   "id": "269a2c95",
   "metadata": {},
   "outputs": [
    {
     "data": {
      "text/plain": [
       "0.8878532882424868"
      ]
     },
     "execution_count": 15,
     "metadata": {},
     "output_type": "execute_result"
    }
   ],
   "source": [
    "roc_auc_score(y_test, lgb.predict_proba(X_test)[:, 1])"
   ]
  },
  {
   "cell_type": "raw",
   "id": "fcba163c",
   "metadata": {},
   "source": [
    "Taip pat geresnis antrasis modelis"
   ]
  },
  {
   "cell_type": "markdown",
   "id": "b7b40833",
   "metadata": {},
   "source": [
    "# 3"
   ]
  },
  {
   "cell_type": "markdown",
   "id": "da9513c9",
   "metadata": {},
   "source": [
    "## a"
   ]
  },
  {
   "cell_type": "code",
   "execution_count": 16,
   "id": "6ac21227",
   "metadata": {},
   "outputs": [
    {
     "name": "stdout",
     "output_type": "stream",
     "text": [
      "C= 0.01 :  0.3142399778147813\n",
      "C= 0.1 :  0.44147083282791677\n",
      "C= 1 :  0.5372699811752707\n",
      "C= 10 :  0.5547756582653556\n",
      "C= 100 :  0.5578507090523395\n",
      "C= 1000 :  0.5568128463691226\n",
      "C= 10000 :  0.5568128463691226\n"
     ]
    }
   ],
   "source": [
    "X_train_val, X_test, y_train_val, y_test = train_test_split(X, y, test_size=0.2, random_state=0, stratify=y)\n",
    "for c in [0.01, 0.1, 1, 10, 100, 1000, 10000]:\n",
    "    tempb = LogisticRegression(max_iter = 10000, C = c).fit(xt, yt)\n",
    "    print(\"C=\",c,\": \", gm(yv, tempb.predict(xv)))"
   ]
  },
  {
   "cell_type": "code",
   "execution_count": 17,
   "id": "c27acb28",
   "metadata": {},
   "outputs": [
    {
     "name": "stdout",
     "output_type": "stream",
     "text": [
      "C= 0.01 :  0.30100391191871667\n",
      "C= 0.1 :  0.4470806342705404\n",
      "C= 1 :  0.5328094740679287\n",
      "C= 10 :  0.5513736303432697\n",
      "C= 100 :  0.552199755929885\n",
      "C= 1000 :  0.5521555215599714\n",
      "C= 10000 :  0.552199755929885\n"
     ]
    }
   ],
   "source": [
    "y = (y == 0).astype(int)\n",
    "X_train_val, X_test, y_train_val, y_test = train_test_split(X, y, test_size=0.2, random_state=0, stratify=y)\n",
    "xt, xv, yt, yv = train_test_split(X_train_val, y_train_val, test_size=0.2, random_state=0, stratify=y_train_val)\n",
    "\n",
    "for c in [0.01, 0.1, 1, 10, 100, 1000, 10000]:\n",
    "    tempb = LogisticRegression(max_iter = 10000, C = c).fit(xt, yt)\n",
    "    print(\"C=\",c,\": \", gm(yv, tempb.predict(xv)))"
   ]
  },
  {
   "cell_type": "raw",
   "id": "31bee10b",
   "metadata": {},
   "source": [
    "Gauname kad apkeitus klases vietomism, vis tiek geriausias modelis yra su C = 100"
   ]
  },
  {
   "cell_type": "markdown",
   "id": "89990081",
   "metadata": {},
   "source": [
    "## b"
   ]
  },
  {
   "cell_type": "code",
   "execution_count": 18,
   "id": "5500ac16",
   "metadata": {},
   "outputs": [],
   "source": [
    "lgb = LogisticRegression(max_iter = 10000, C = 100).fit(X_train_val, y_train_val)"
   ]
  },
  {
   "cell_type": "raw",
   "id": "c0a811f0",
   "metadata": {},
   "source": [
    "Pries tai buves atsakymas:\n",
    "               precision    recall  f1-score   support\n",
    "\n",
    "           0       0.92      0.98      0.95      7985\n",
    "           1       0.66      0.32      0.43      1058\n",
    "\n",
    "    accuracy                           0.90      9043\n",
    "   macro avg       0.79      0.65      0.69      9043\n",
    "weighted avg       0.89      0.90      0.89      9043"
   ]
  },
  {
   "cell_type": "code",
   "execution_count": 19,
   "id": "b08edfe3",
   "metadata": {},
   "outputs": [
    {
     "name": "stdout",
     "output_type": "stream",
     "text": [
      "              precision    recall  f1-score   support\n",
      "\n",
      "           0       0.64      0.33      0.44      1058\n",
      "           1       0.92      0.98      0.95      7985\n",
      "\n",
      "    accuracy                           0.90      9043\n",
      "   macro avg       0.78      0.65      0.69      9043\n",
      "weighted avg       0.88      0.90      0.89      9043\n",
      "\n"
     ]
    }
   ],
   "source": [
    "print(classification_report(y_test, lgb.predict(X_test)))"
   ]
  },
  {
   "cell_type": "raw",
   "id": "a912c08c",
   "metadata": {},
   "source": [
    "Matome kad eilutes susikeite vietomis ir siek tiek apvalinimas pasikeite kai kur"
   ]
  }
 ],
 "metadata": {
  "kernelspec": {
   "display_name": "Python 3 (ipykernel)",
   "language": "python",
   "name": "python3"
  },
  "language_info": {
   "codemirror_mode": {
    "name": "ipython",
    "version": 3
   },
   "file_extension": ".py",
   "mimetype": "text/x-python",
   "name": "python",
   "nbconvert_exporter": "python",
   "pygments_lexer": "ipython3",
   "version": "3.9.12"
  }
 },
 "nbformat": 4,
 "nbformat_minor": 5
}
