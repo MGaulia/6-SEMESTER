{
 "cells": [
  {
   "cell_type": "code",
   "execution_count": 1,
   "id": "1250bd17",
   "metadata": {},
   "outputs": [],
   "source": [
    "import pandas as pd\n",
    "import numpy as np\n",
    "from sklearn.neighbors import KNeighborsClassifier\n",
    "from sklearn.linear_model import LogisticRegression\n",
    "from sklearn.svm import LinearSVC\n",
    "from sklearn.model_selection import cross_val_score, train_test_split, LeaveOneOut\n",
    "import warnings\n",
    "warnings.filterwarnings(\"ignore\")"
   ]
  },
  {
   "cell_type": "markdown",
   "id": "1dea859a",
   "metadata": {},
   "source": [
    "### 1"
   ]
  },
  {
   "cell_type": "code",
   "execution_count": 2,
   "id": "2f7e5bca",
   "metadata": {},
   "outputs": [],
   "source": [
    "path = \"data/Date_Fruit_Datasets.xlsx\"\n",
    "df = pd.read_excel(io=path,sheet_name=\"Date_Fruit_Datasets\")"
   ]
  },
  {
   "cell_type": "markdown",
   "id": "15a0c297",
   "metadata": {},
   "source": [
    "#### a)"
   ]
  },
  {
   "cell_type": "code",
   "execution_count": 3,
   "id": "d2ba24f8",
   "metadata": {},
   "outputs": [],
   "source": [
    "our_dates = [\"BERHI\",\"DEGLET\",\"DOKOL\",\"IRAQI\"]\n",
    "adf = df.copy()\n",
    "adf[\"Target\"] = [1 if i in our_dates else 0 for i in adf.Class]\n",
    "adf = adf.drop([\"Class\"], axis = 1)\n",
    "x = adf.iloc[:, :-1]\n",
    "y = adf.iloc[:, -1]"
   ]
  },
  {
   "cell_type": "code",
   "execution_count": 4,
   "id": "a2903c5a",
   "metadata": {},
   "outputs": [
    {
     "name": "stdout",
     "output_type": "stream",
     "text": [
      "0.05 0.6044569288389513\n",
      "1 0.6044569288389513\n",
      "20 0.6044569288389513\n"
     ]
    }
   ],
   "source": [
    "for C in [0.05, 1, 20]:\n",
    "    lr = LogisticRegression(C=C)\n",
    "    print(C, cross_val_score(lr, x, y, cv = 10).mean())\n",
    "# Rezultatai nepriklauso nuo C reiksmes"
   ]
  },
  {
   "cell_type": "code",
   "execution_count": 5,
   "id": "0b1a8b3d",
   "metadata": {},
   "outputs": [
    {
     "name": "stdout",
     "output_type": "stream",
     "text": [
      "Optimali hp koef reiksme MAJOR_AXIS -1.6792256246983582e-17\n"
     ]
    }
   ],
   "source": [
    "lr = LogisticRegression(C=1)\n",
    "lr.fit(x,y)\n",
    "print(\"Optimali hp koef reiksme MAJOR_AXIS\", lr.coef_[0][list(x.columns).index('MAJOR_AXIS')])"
   ]
  },
  {
   "cell_type": "markdown",
   "id": "af2598b8",
   "metadata": {},
   "source": [
    "#### b)"
   ]
  },
  {
   "cell_type": "code",
   "execution_count": 6,
   "id": "0d010e7a",
   "metadata": {},
   "outputs": [],
   "source": [
    "our_dates = [\"DOKOL\",\"IRAQI\",\"ROTANA\"]\n",
    "bdf = df.copy()\n",
    "bdf[\"Target\"] = [1 if i in our_dates else 0 for i in bdf.Class]\n",
    "bdf = bdf.drop([\"Class\"], axis = 1)\n",
    "x = bdf.iloc[:, :-1]\n",
    "y = bdf.iloc[:, -1]"
   ]
  },
  {
   "cell_type": "code",
   "execution_count": 7,
   "id": "766bd001",
   "metadata": {},
   "outputs": [],
   "source": [
    "xtrain, xtest, ytrain, ytest = train_test_split(x, y, test_size = 0.1)"
   ]
  },
  {
   "cell_type": "code",
   "execution_count": 8,
   "id": "326dfc5f",
   "metadata": {},
   "outputs": [
    {
     "name": "stdout",
     "output_type": "stream",
     "text": [
      "0.3010299956639812 0.5666666666666667\n",
      "1.0 0.7\n",
      "1.6989700043360187 0.7333333333333333\n"
     ]
    }
   ],
   "source": [
    "for C in [np.log10(i) for i in [2, 10, 50]]:\n",
    "    svm = LinearSVC(C=C)\n",
    "    svm.fit(xtrain,ytrain)\n",
    "    print(C, svm.score(xtest, ytest))\n",
    "# Geriausias rezultatas su C = log(10)(50), score = 0.677"
   ]
  },
  {
   "cell_type": "code",
   "execution_count": 9,
   "id": "33323a7e",
   "metadata": {},
   "outputs": [
    {
     "name": "stdout",
     "output_type": "stream",
     "text": [
      "Prediction: [0]  Real: 0\n"
     ]
    }
   ],
   "source": [
    "svm = LinearSVC(C=np.log10(50))\n",
    "svm.fit(xtrain,ytrain)\n",
    "pred = svm.predict(x.iloc[9, :].values.reshape(1, -1))\n",
    "real = y[9]\n",
    "print(\"Prediction:\",pred, \" Real:\", real)"
   ]
  },
  {
   "cell_type": "markdown",
   "id": "650788b0",
   "metadata": {},
   "source": [
    "#### c)"
   ]
  },
  {
   "cell_type": "code",
   "execution_count": 10,
   "id": "335c3b7d",
   "metadata": {},
   "outputs": [],
   "source": [
    "our_dates = [\"BERHI\",\"DOKOL\",\"ROTANA\",\"SOGAY\"]\n",
    "cdf = df.copy()\n",
    "cdf[\"Target\"] = [1 if i in our_dates else 0 for i in cdf.Class]\n",
    "cdf = cdf.drop([\"Class\"], axis = 1)\n",
    "x = cdf.iloc[:, :-1]\n",
    "y = cdf.iloc[:, -1]"
   ]
  },
  {
   "cell_type": "code",
   "execution_count": 11,
   "id": "52ca10d9",
   "metadata": {},
   "outputs": [
    {
     "name": "stdout",
     "output_type": "stream",
     "text": [
      "(898, 34) (898,)\n",
      "529\n"
     ]
    }
   ],
   "source": [
    "print(x.shape, y.shape)\n",
    "print(sum(y))"
   ]
  },
  {
   "cell_type": "code",
   "execution_count": 12,
   "id": "32f9fb6a",
   "metadata": {
    "scrolled": true
   },
   "outputs": [
    {
     "name": "stdout",
     "output_type": "stream",
     "text": [
      "0.27032136105860116\n",
      "0.267260579064588\n"
     ]
    }
   ],
   "source": [
    "knn = KNeighborsClassifier(n_neighbors=2)\n",
    "print(1-cross_val_score(knn, x, y, cv = 529).mean())\n",
    "print(1-cross_val_score(knn, x, y, cv = LeaveOneOut()).mean())"
   ]
  },
  {
   "cell_type": "raw",
   "id": "3eb8dd7f",
   "metadata": {},
   "source": [
    "Negalima priskirti aibės dydžio į cv, nes aibės dydis yra 898, o maksimalus vienos klasės dydis yra 529, o cv negali būti didesnis už maksimalų vienos klasės dydį, todėl priskiriu 529."
   ]
  },
  {
   "cell_type": "raw",
   "id": "38ebb638",
   "metadata": {},
   "source": [
    "LeaveOneOut() metodas skiriasi nuo k-fold tuom, nes jis uztrainina modeli ant visu eiluciu, isskyrus viena, o k-fold, uztrainina ant visu daliu, isskyrus viena.  Jie labai panasus tuom, nes galima laikyti kad viena eilute yra viena dalis tada paemus k-fold, gauname kad tas k = n, ir gausime ta pati rezultata"
   ]
  }
 ],
 "metadata": {
  "kernelspec": {
   "display_name": "Python 3 (ipykernel)",
   "language": "python",
   "name": "python3"
  },
  "language_info": {
   "codemirror_mode": {
    "name": "ipython",
    "version": 3
   },
   "file_extension": ".py",
   "mimetype": "text/x-python",
   "name": "python",
   "nbconvert_exporter": "python",
   "pygments_lexer": "ipython3",
   "version": "3.9.12"
  }
 },
 "nbformat": 4,
 "nbformat_minor": 5
}
